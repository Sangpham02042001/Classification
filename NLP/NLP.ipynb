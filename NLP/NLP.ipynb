{
 "cells": [
  {
   "cell_type": "code",
   "execution_count": 1,
   "metadata": {},
   "outputs": [],
   "source": [
    "import numpy as np\n",
    "from pyvi import ViTokenizer as VT\n",
    "import pandas as pd\n",
    "import gensim\n",
    "from sklearn.ensemble import RandomForestClassifier"
   ]
  },
  {
   "cell_type": "code",
   "execution_count": 2,
   "metadata": {},
   "outputs": [],
   "source": [
    "train_full = []\n",
    "test_full = []\n",
    "trainPath = \"trainning.txt\"\n",
    "testPath = \"testing.txt\"\n"
   ]
  },
  {
   "cell_type": "code",
   "execution_count": 3,
   "metadata": {},
   "outputs": [],
   "source": [
    "with open(trainPath, 'r', encoding = 'utf-8') as fileTrain:\n",
    "    lines = fileTrain.read()\n",
    "    train_full = lines.split('\\n')\n",
    "fileTrain.close()"
   ]
  },
  {
   "cell_type": "code",
   "execution_count": 4,
   "metadata": {},
   "outputs": [
    {
     "data": {
      "text/plain": [
       "'__CTXH__\\tNgầm hóa các công trình hạ tầng kỹ thuật Theo đó, UBND TP chấp thuận giao Khu quản lý giao thông đô thị số 1 phối hợp các đơn vị quản lý chuyên ngành di dời, tái lập các công trình hạ tầng kỹ thuật thuộc phạm vi qui hoạch xây dựng của dự án theo phương án ngầm hóa riêng biệt từng loại công trình (cáp quang bưu điện - truyền thông, điện lực, cấp nước...). UBND TP cũng chấp thuận cho Bưu điện TP nghiên cứu đầu tư khai thác xây dựng đường ống ngầm kỹ thuật dành riêng cho cáp quang bưu điện. '"
      ]
     },
     "execution_count": 4,
     "metadata": {},
     "output_type": "execute_result"
    }
   ],
   "source": [
    "train_full[1]"
   ]
  },
  {
   "cell_type": "code",
   "execution_count": 5,
   "metadata": {},
   "outputs": [
    {
     "data": {
      "text/plain": [
       "['ngầm_hóa',\n",
       " 'công_trình',\n",
       " 'hạ_tầng',\n",
       " 'kỹ_thuật',\n",
       " 'ubnd',\n",
       " 'tp',\n",
       " 'chấp_thuận',\n",
       " 'giao',\n",
       " 'khu',\n",
       " 'quản_lý',\n",
       " 'giao_thông',\n",
       " 'đô_thị',\n",
       " 'phối_hợp',\n",
       " 'quản_lý',\n",
       " 'chuyên_ngành',\n",
       " 'di_dời',\n",
       " 'tái_lập',\n",
       " 'công_trình',\n",
       " 'hạ_tầng',\n",
       " 'kỹ_thuật',\n",
       " 'phạm_vi',\n",
       " 'qui_hoạch',\n",
       " 'xây_dựng',\n",
       " 'dự_án',\n",
       " 'phương_án',\n",
       " 'ngầm_hóa',\n",
       " 'riêng_biệt',\n",
       " 'công_trình',\n",
       " 'cáp_quang',\n",
       " 'bưu_điện',\n",
       " 'truyền_thông',\n",
       " 'điện_lực',\n",
       " 'cấp_nước',\n",
       " 'ubnd',\n",
       " 'tp',\n",
       " 'chấp_thuận',\n",
       " 'bưu_điện',\n",
       " 'tp',\n",
       " 'nghiên_cứu',\n",
       " 'đầu_tư',\n",
       " 'khai_thác',\n",
       " 'xây_dựng',\n",
       " 'đường_ống',\n",
       " 'ngầm',\n",
       " 'kỹ_thuật',\n",
       " 'cáp_quang',\n",
       " 'bưu_điện']"
      ]
     },
     "execution_count": 5,
     "metadata": {},
     "output_type": "execute_result"
    }
   ],
   "source": [
    "STOP_WORDS = [i.strip() for i in open('stop_words.txt', 'r', encoding='utf8')]\n",
    "data_train = []\n",
    "labels_train = []\n",
    "for i in range(0, len(train_full)-1):\n",
    "    line = train_full[i].split('\\t')\n",
    "    labels_train.append(line[0])\n",
    "    line[1] = VT.tokenize(line[1])\n",
    "    line[1] = gensim.utils.simple_preprocess(line[1])\n",
    "    res = []\n",
    "    for j in line[1]:\n",
    "        if j not in STOP_WORDS:\n",
    "            res.append(j)\n",
    "    data_train.append(res)\n",
    "data_train[1]"
   ]
  },
  {
   "cell_type": "code",
   "execution_count": 10,
   "metadata": {},
   "outputs": [
    {
     "data": {
      "text/plain": [
       "'__CTXH__'"
      ]
     },
     "execution_count": 10,
     "metadata": {},
     "output_type": "execute_result"
    }
   ],
   "source": [
    "labels_train[0]"
   ]
  },
  {
   "cell_type": "code",
   "execution_count": 7,
   "metadata": {},
   "outputs": [
    {
     "data": {
      "text/plain": [
       "'Nước giải... hạn Hồ nước tận dụng cầu thang Tìm mọi cách để “đem” nước vào nhà là cách đơn giản nhất để giải nhiệt cho căn nhà khi mùa khô đang hoành hành... Sau Tết và bắt đầu vào mùa khô, trong khi ở phía Bắc vẫn còn vương vấn chút hơi lạnh thì các cư dân ở miền Nam đang đối mặt với cái nóng và cái nắng nhiều hôm như đổ lửa. Mùa khô năm nay đã được dự báo sẽ nóng hơn mọi năm, trong khi điện dùng cho sinh hoạt cũng hăm he đòi tăng giá. Làm sao giải nhiệt bớt cho căn nhà đang là vấn đề làm nhiều chủ nhà đau đầu. Làm sao để không quá phụ thuộc vào các thiết bị máy móc hiện đại, một giải pháp truyền thống thường vẫn được nhiều kiến trúc sư và các... “thầy địa lý” khuyên dùng là hãy cố gắng “mang” nước vào nhà, vì một lẽ đơn giản nhất là “thủy” trị “hỏa”. Giải pháp này có thể dễ dàng ứng dụng với nhiều căn nhà còn nằm trên ý tưởng bởi đầu mùa khô cũng là thời điểm nhiều gia đình chuẩn xây dựng nhà mới... Theo đó, những căn nhà ở đô thị nên dành ra một ít diện tích sinh hoạt để làm những hồ nước giải nhiệt quanh nhà. Gọi là hồ, nhưng thật sự, chỉ với vài hòn non bộ hoặc đơn giản là một vuông nước nhỏ góc sân nhà với vài dây súng, cây cảnh... bạn cũng đã có thể làm dịu mát bớt cái nóng từ những tường, vách, bê tông ngồn ngộn... Còn với những căn nhà cũ, để tìm cách cải thiện không gian sống của mình, bạn vẫn có thể tận dụng gầm cầu thang hoặc vài góc nhỏ trong nhà làm những bể cá thậm chí chỉ là vài chậu nước thả hoa tươi... Rất đơn giản, không... hao tốn điện, nhưng bạn sẽ thấy căn nhà mình sẽ trở nên dịu mát hẳn ra... Một góc thư giãn với hồ nước trong chung cư Sân nhỏ với hồ nước bên nhà Hồ nước ở góc sân Hồ nước tận dụng góc cầu thang để làm mát nhà Một góc nhỏ trên sân nhà cũng có thể tận dụng để làm hồ nước Một góc nhỏ trên sân nhà cũng có thể tận dụng để làm hồ nước Hồ nhỏ trước hiên Hồ nước nhỏ trên sân nhà phố làm mát không gian sống '"
      ]
     },
     "execution_count": 7,
     "metadata": {},
     "output_type": "execute_result"
    }
   ],
   "source": [
    "with open(testPath, 'r', encoding = 'utf-8') as fileTest:\n",
    "    lines = fileTest.read()\n",
    "    test_full = lines.split('\\n')\n",
    "test_full[1]"
   ]
  },
  {
   "cell_type": "code",
   "execution_count": 8,
   "metadata": {},
   "outputs": [
    {
     "data": {
      "text/plain": [
       "['nước_giải',\n",
       " 'hạn',\n",
       " 'hồ',\n",
       " 'tận_dụng',\n",
       " 'cầu_thang',\n",
       " 'đem',\n",
       " 'đơn_giản',\n",
       " 'giải_nhiệt',\n",
       " 'mùa',\n",
       " 'khô',\n",
       " 'hoành_hành',\n",
       " 'tết',\n",
       " 'bắt_đầu_vào',\n",
       " 'mùa',\n",
       " 'khô',\n",
       " 'bắc',\n",
       " 'vương_vấn',\n",
       " 'chút',\n",
       " 'hơi',\n",
       " 'lạnh',\n",
       " 'cư_dân',\n",
       " 'miền',\n",
       " 'nam',\n",
       " 'đối_mặt',\n",
       " 'nóng',\n",
       " 'nắng',\n",
       " 'hôm',\n",
       " 'đổ',\n",
       " 'lửa',\n",
       " 'mùa',\n",
       " 'khô',\n",
       " 'dự_báo',\n",
       " 'nóng',\n",
       " 'điện',\n",
       " 'sinh_hoạt',\n",
       " 'hăm_he',\n",
       " 'đòi',\n",
       " 'tăng_giá',\n",
       " 'giải_nhiệt',\n",
       " 'bớt',\n",
       " 'chủ',\n",
       " 'đau_đầu',\n",
       " 'phụ_thuộc',\n",
       " 'thiết_bị',\n",
       " 'máy_móc',\n",
       " 'hiện_đại',\n",
       " 'giải_pháp',\n",
       " 'truyền_thống',\n",
       " 'kiến_trúc_sư',\n",
       " 'thầy_địa_lý',\n",
       " 'khuyên',\n",
       " 'cố_gắng',\n",
       " 'lẽ',\n",
       " 'đơn_giản',\n",
       " 'thủy',\n",
       " 'trị',\n",
       " 'hỏa',\n",
       " 'giải_pháp',\n",
       " 'dễ_dàng',\n",
       " 'ứng_dụng',\n",
       " 'nằm',\n",
       " 'ý_tưởng',\n",
       " 'đầu',\n",
       " 'mùa',\n",
       " 'khô',\n",
       " 'gia_đình',\n",
       " 'chuẩn',\n",
       " 'xây_dựng',\n",
       " 'đô_thị',\n",
       " 'diện_tích',\n",
       " 'sinh_hoạt',\n",
       " 'hồ',\n",
       " 'nước_giải_nhiệt',\n",
       " 'quanh',\n",
       " 'gọi',\n",
       " 'hồ',\n",
       " 'hòn',\n",
       " 'non_bộ',\n",
       " 'đơn_giản',\n",
       " 'vuông',\n",
       " 'góc',\n",
       " 'sân_nhà',\n",
       " 'dây',\n",
       " 'súng',\n",
       " 'cây_cảnh',\n",
       " 'dịu',\n",
       " 'mát',\n",
       " 'bớt',\n",
       " 'nóng',\n",
       " 'tường',\n",
       " 'vách',\n",
       " 'bê_tông',\n",
       " 'ngồn_ngộn',\n",
       " 'cũ',\n",
       " 'cải_thiện',\n",
       " 'không_gian',\n",
       " 'sống',\n",
       " 'tận_dụng',\n",
       " 'gầm',\n",
       " 'cầu_thang',\n",
       " 'góc',\n",
       " 'bể',\n",
       " 'cá',\n",
       " 'chậu',\n",
       " 'thả',\n",
       " 'hoa',\n",
       " 'tươi',\n",
       " 'đơn_giản',\n",
       " 'hao',\n",
       " 'tốn',\n",
       " 'điện',\n",
       " 'trở_nên',\n",
       " 'dịu',\n",
       " 'mát',\n",
       " 'hẳn',\n",
       " 'góc',\n",
       " 'thư',\n",
       " 'giãn',\n",
       " 'hồ',\n",
       " 'chung_cư',\n",
       " 'sân',\n",
       " 'hồ',\n",
       " 'hồ',\n",
       " 'góc',\n",
       " 'sân',\n",
       " 'hồ',\n",
       " 'tận_dụng',\n",
       " 'góc',\n",
       " 'cầu_thang',\n",
       " 'mát',\n",
       " 'góc',\n",
       " 'sân_nhà',\n",
       " 'tận_dụng',\n",
       " 'hồ',\n",
       " 'góc',\n",
       " 'sân_nhà',\n",
       " 'tận_dụng',\n",
       " 'hồ',\n",
       " 'hồ',\n",
       " 'hiên',\n",
       " 'hồ',\n",
       " 'sân_nhà',\n",
       " 'phố',\n",
       " 'mát',\n",
       " 'không_gian',\n",
       " 'sống']"
      ]
     },
     "execution_count": 8,
     "metadata": {},
     "output_type": "execute_result"
    }
   ],
   "source": [
    "data_test = []\n",
    "for i in range(0, len(test_full)):\n",
    "    test_full[i] = VT.tokenize(test_full[i])\n",
    "    test_full[i] = gensim.utils.simple_preprocess(test_full[i])\n",
    "    res = []\n",
    "    for j in test_full[i]:\n",
    "        if j not in STOP_WORDS:\n",
    "            res.append(j)\n",
    "    data_test.append(res)\n",
    "data_test[1]"
   ]
  },
  {
   "cell_type": "code",
   "execution_count": 11,
   "metadata": {},
   "outputs": [
    {
     "name": "stdout",
     "output_type": "stream",
     "text": [
      "<class 'list'>\n",
      "<class 'list'>\n"
     ]
    }
   ],
   "source": [
    "print(type(data_test[1]))\n",
    "print(type(data_train[1]))"
   ]
  },
  {
   "cell_type": "code",
   "execution_count": 12,
   "metadata": {},
   "outputs": [
    {
     "data": {
      "text/plain": [
       "'ngầm_hóa công_trình hạ_tầng kỹ_thuật ubnd tp chấp_thuận giao khu quản_lý giao_thông đô_thị phối_hợp quản_lý chuyên_ngành di_dời tái_lập công_trình hạ_tầng kỹ_thuật phạm_vi qui_hoạch xây_dựng dự_án phương_án ngầm_hóa riêng_biệt công_trình cáp_quang bưu_điện truyền_thông điện_lực cấp_nước ubnd tp chấp_thuận bưu_điện tp nghiên_cứu đầu_tư khai_thác xây_dựng đường_ống ngầm kỹ_thuật cáp_quang bưu_điện'"
      ]
     },
     "execution_count": 12,
     "metadata": {},
     "output_type": "execute_result"
    }
   ],
   "source": [
    "#convert list to string\n",
    "data_train2 = []\n",
    "for i in data_train:\n",
    "    data_train2.append(\" \".join(i))\n",
    "data_train2[1]"
   ]
  },
  {
   "cell_type": "code",
   "execution_count": 13,
   "metadata": {},
   "outputs": [
    {
     "data": {
      "text/plain": [
       "'nước_giải hạn hồ tận_dụng cầu_thang đem đơn_giản giải_nhiệt mùa khô hoành_hành tết bắt_đầu_vào mùa khô bắc vương_vấn chút hơi lạnh cư_dân miền nam đối_mặt nóng nắng hôm đổ lửa mùa khô dự_báo nóng điện sinh_hoạt hăm_he đòi tăng_giá giải_nhiệt bớt chủ đau_đầu phụ_thuộc thiết_bị máy_móc hiện_đại giải_pháp truyền_thống kiến_trúc_sư thầy_địa_lý khuyên cố_gắng lẽ đơn_giản thủy trị hỏa giải_pháp dễ_dàng ứng_dụng nằm ý_tưởng đầu mùa khô gia_đình chuẩn xây_dựng đô_thị diện_tích sinh_hoạt hồ nước_giải_nhiệt quanh gọi hồ hòn non_bộ đơn_giản vuông góc sân_nhà dây súng cây_cảnh dịu mát bớt nóng tường vách bê_tông ngồn_ngộn cũ cải_thiện không_gian sống tận_dụng gầm cầu_thang góc bể cá chậu thả hoa tươi đơn_giản hao tốn điện trở_nên dịu mát hẳn góc thư giãn hồ chung_cư sân hồ hồ góc sân hồ tận_dụng góc cầu_thang mát góc sân_nhà tận_dụng hồ góc sân_nhà tận_dụng hồ hồ hiên hồ sân_nhà phố mát không_gian sống'"
      ]
     },
     "execution_count": 13,
     "metadata": {},
     "output_type": "execute_result"
    }
   ],
   "source": [
    "data_test2 = []\n",
    "for i in data_test:\n",
    "    data_test2.append(\" \".join(i))\n",
    "data_test2[1]"
   ]
  },
  {
   "cell_type": "code",
   "execution_count": 17,
   "metadata": {},
   "outputs": [],
   "source": [
    "from sklearn.feature_extraction.text import TfidfVectorizer\n",
    "vector = TfidfVectorizer(analyzer = 'word',max_features = 30000)\n",
    "vector.fit(data_train2)\n",
    "\n",
    "train = vector.transform(data_train2)\n",
    "test = vector.transform(data_test2)"
   ]
  },
  {
   "cell_type": "code",
   "execution_count": 18,
   "metadata": {},
   "outputs": [
    {
     "data": {
      "text/plain": [
       "<5000x30000 sparse matrix of type '<class 'numpy.float64'>'\n",
       "\twith 512396 stored elements in Compressed Sparse Row format>"
      ]
     },
     "execution_count": 18,
     "metadata": {},
     "output_type": "execute_result"
    }
   ],
   "source": [
    "train"
   ]
  },
  {
   "cell_type": "code",
   "execution_count": 19,
   "metadata": {},
   "outputs": [
    {
     "name": "stdout",
     "output_type": "stream",
     "text": [
      "  (0, 29491)\t0.29901461500256865\n",
      "  (0, 29172)\t0.05687286081648724\n",
      "  (0, 28360)\t0.12138987289474534\n",
      "  (0, 27910)\t0.132850612041109\n",
      "  (0, 27583)\t0.07769693391197248\n",
      "  (0, 27581)\t0.11902430558102817\n",
      "  (0, 27518)\t0.16062439682072507\n",
      "  (0, 25196)\t0.34675135191015144\n",
      "  (0, 25194)\t0.0961206925273498\n",
      "  (0, 23985)\t0.14129489018371\n",
      "  (0, 23915)\t0.41496018224860015\n",
      "  (0, 23380)\t0.1016281507944764\n",
      "  (0, 23182)\t0.28387148469389634\n",
      "  (0, 18227)\t0.1311334151248802\n",
      "  (0, 16704)\t0.2923749627603531\n",
      "  (0, 16459)\t0.09998640302009613\n",
      "  (0, 13010)\t0.09016741164811275\n",
      "  (0, 11416)\t0.090017220334595\n",
      "  (0, 11389)\t0.08401962667627175\n",
      "  (0, 11278)\t0.09262406789071796\n",
      "  (0, 11162)\t0.09964873190989533\n",
      "  (0, 10899)\t0.1579515856438853\n",
      "  (0, 9431)\t0.21201886957599614\n",
      "  (0, 9419)\t0.32444637813161015\n",
      "  (0, 9364)\t0.0942641300808421\n",
      "  :\t:\n",
      "  (4999, 10898)\t0.10207455634891878\n",
      "  (4999, 10541)\t0.05499402982170184\n",
      "  (4999, 9518)\t0.05562428708402391\n",
      "  (4999, 9248)\t0.09104678887258666\n",
      "  (4999, 9101)\t0.09061658952986938\n",
      "  (4999, 8859)\t0.09618507885937626\n",
      "  (4999, 8309)\t0.09680847426278465\n",
      "  (4999, 7887)\t0.02976352142885743\n",
      "  (4999, 7523)\t0.12856376485978072\n",
      "  (4999, 7348)\t0.05040653969651384\n",
      "  (4999, 7225)\t0.055284916078669664\n",
      "  (4999, 6024)\t0.07136484208528587\n",
      "  (4999, 5648)\t0.13207751146075372\n",
      "  (4999, 4615)\t0.05295486301098793\n",
      "  (4999, 3873)\t0.09194534607635944\n",
      "  (4999, 3770)\t0.08281573732895747\n",
      "  (4999, 3497)\t0.04819687167189554\n",
      "  (4999, 3434)\t0.188908857881497\n",
      "  (4999, 3231)\t0.06842110702299259\n",
      "  (4999, 2134)\t0.07009632651141326\n",
      "  (4999, 1422)\t0.07749672254942624\n",
      "  (4999, 1302)\t0.2250446553841367\n",
      "  (4999, 1067)\t0.09680847426278465\n",
      "  (4999, 995)\t0.10872232767494007\n",
      "  (4999, 158)\t0.12856376485978072\n"
     ]
    }
   ],
   "source": [
    "print(train)"
   ]
  },
  {
   "cell_type": "code",
   "execution_count": 20,
   "metadata": {},
   "outputs": [
    {
     "name": "stdout",
     "output_type": "stream",
     "text": [
      "  (0, 29519)\t0.19769803871009983\n",
      "  (0, 29172)\t0.029927980315895265\n",
      "  (0, 29133)\t0.05970698660055882\n",
      "  (0, 28468)\t0.051975770411203714\n",
      "  (0, 28434)\t0.05970698660055882\n",
      "  (0, 28432)\t0.19999996446283239\n",
      "  (0, 28429)\t0.05777261402773551\n",
      "  (0, 28176)\t0.06878965020378998\n",
      "  (0, 28099)\t0.07139887584527717\n",
      "  (0, 26908)\t0.06922574485549254\n",
      "  (0, 26859)\t0.07539299168118833\n",
      "  (0, 26479)\t0.0900295512610242\n",
      "  (0, 26024)\t0.06990945145084622\n",
      "  (0, 26022)\t0.0657553560134918\n",
      "  (0, 25721)\t0.18560118242685505\n",
      "  (0, 24938)\t0.06057197271251852\n",
      "  (0, 24583)\t0.16760388795739442\n",
      "  (0, 24439)\t0.04937135129668702\n",
      "  (0, 24338)\t0.04814095872981441\n",
      "  (0, 23991)\t0.12276127155153056\n",
      "  (0, 23519)\t0.20424490797061867\n",
      "  (0, 23103)\t0.04550479308358345\n",
      "  (0, 22999)\t0.10645962339363858\n",
      "  (0, 22683)\t0.03935485291048544\n",
      "  (0, 22257)\t0.053543407260867405\n",
      "  :\t:\n",
      "  (4999, 14707)\t0.06637684762250368\n",
      "  (4999, 14148)\t0.19921366688506373\n",
      "  (4999, 14080)\t0.09940181351188193\n",
      "  (4999, 13755)\t0.07701315927487246\n",
      "  (4999, 11287)\t0.0760278765643385\n",
      "  (4999, 11162)\t0.08374077474538202\n",
      "  (4999, 11081)\t0.1362065351252138\n",
      "  (4999, 10892)\t0.09343986793751251\n",
      "  (4999, 9663)\t0.08383492078870107\n",
      "  (4999, 9121)\t0.164201765085475\n",
      "  (4999, 8651)\t0.15601368522256587\n",
      "  (4999, 8420)\t0.09585640759509718\n",
      "  (4999, 8417)\t0.08860233418229223\n",
      "  (4999, 7811)\t0.0875545567849779\n",
      "  (4999, 7160)\t0.08732891991561419\n",
      "  (4999, 6296)\t0.1490901219824443\n",
      "  (4999, 5336)\t0.12158750835492163\n",
      "  (4999, 4927)\t0.47756798048717913\n",
      "  (4999, 4889)\t0.1091808172462461\n",
      "  (4999, 4598)\t0.1116793816568798\n",
      "  (4999, 4573)\t0.09764468055635592\n",
      "  (4999, 4400)\t0.1264020496338836\n",
      "  (4999, 3515)\t0.06932485112061032\n",
      "  (4999, 2164)\t0.07783753045900384\n",
      "  (4999, 1106)\t0.07840642131002612\n"
     ]
    }
   ],
   "source": [
    "print(test)"
   ]
  },
  {
   "cell_type": "code",
   "execution_count": 29,
   "metadata": {},
   "outputs": [],
   "source": [
    "from sklearn.model_selection import train_test_split\n",
    "data_train_check ,  data_test_check, label_train_check,label_test_check = train_test_split(train, labels_train, test_size=0.2, random_state=0)"
   ]
  },
  {
   "cell_type": "code",
   "execution_count": 27,
   "metadata": {},
   "outputs": [
    {
     "name": "stdout",
     "output_type": "stream",
     "text": [
      "              precision    recall  f1-score   support\n",
      "\n",
      "    __CTXH__       0.77      0.70      0.73        99\n",
      "      __DS__       0.82      0.82      0.82        92\n",
      "      __KD__       0.82      0.89      0.85       105\n",
      "      __KH__       0.87      0.80      0.84       117\n",
      "      __PL__       0.85      0.91      0.88        89\n",
      "      __SK__       0.82      0.93      0.88       106\n",
      "      __TG__       0.88      0.86      0.87       102\n",
      "      __TT__       0.96      0.99      0.98        82\n",
      "      __VH__       0.90      0.87      0.88       101\n",
      "      __VT__       0.89      0.84      0.87       107\n",
      "\n",
      "    accuracy                           0.86      1000\n",
      "   macro avg       0.86      0.86      0.86      1000\n",
      "weighted avg       0.86      0.86      0.86      1000\n",
      "\n"
     ]
    }
   ],
   "source": [
    "from sklearn.metrics import classification_report\n",
    "from sklearn.ensemble import RandomForestClassifier\n",
    "randomforest = RandomForestClassifier()\n",
    "randomforest.fit(data_train_check,label_train_check)\n",
    "rf_predict = randomforest.predict(data_test_check)\n",
    "print(classification_report(label_test_check,rf_predict))"
   ]
  },
  {
   "cell_type": "code",
   "execution_count": 31,
   "metadata": {},
   "outputs": [
    {
     "name": "stdout",
     "output_type": "stream",
     "text": [
      "              precision    recall  f1-score   support\n",
      "\n",
      "    __CTXH__       0.70      0.73      0.71        99\n",
      "      __DS__       0.79      0.82      0.80        92\n",
      "      __KD__       0.90      0.90      0.90       105\n",
      "      __KH__       0.88      0.85      0.87       117\n",
      "      __PL__       0.87      0.90      0.88        89\n",
      "      __SK__       0.89      0.90      0.89       106\n",
      "      __TG__       0.89      0.91      0.90       102\n",
      "      __TT__       0.98      0.99      0.98        82\n",
      "      __VH__       0.96      0.89      0.92       101\n",
      "      __VT__       0.96      0.93      0.94       107\n",
      "\n",
      "    accuracy                           0.88      1000\n",
      "   macro avg       0.88      0.88      0.88      1000\n",
      "weighted avg       0.88      0.88      0.88      1000\n",
      "\n"
     ]
    }
   ],
   "source": [
    "from sklearn.linear_model import LogisticRegression\n",
    "linear = LogisticRegression()\n",
    "linear.fit(data_train_check,label_train_check)\n",
    "linear_predict = linear.predict(data_test_check)\n",
    "print(classification_report(label_test_check,linear_predict))"
   ]
  },
  {
   "cell_type": "code",
   "execution_count": 32,
   "metadata": {},
   "outputs": [
    {
     "data": {
      "text/plain": [
       "array(['__KD__', '__DS__', '__PL__', ..., '__SK__', '__CTXH__',\n",
       "       '__CTXH__'], dtype='<U8')"
      ]
     },
     "execution_count": 32,
     "metadata": {},
     "output_type": "execute_result"
    }
   ],
   "source": [
    "predictions = linear.predict(test)\n",
    "predictions"
   ]
  },
  {
   "cell_type": "code",
   "execution_count": 36,
   "metadata": {},
   "outputs": [],
   "source": [
    "output = pd.DataFrame({\"Label\": predictions})\n",
    "output.to_csv(\"result.csv\", index = False)"
   ]
  },
  {
   "cell_type": "code",
   "execution_count": null,
   "metadata": {},
   "outputs": [],
   "source": []
  }
 ],
 "metadata": {
  "kernelspec": {
   "display_name": "Python 3",
   "language": "python",
   "name": "python3"
  },
  "language_info": {
   "codemirror_mode": {
    "name": "ipython",
    "version": 3
   },
   "file_extension": ".py",
   "mimetype": "text/x-python",
   "name": "python",
   "nbconvert_exporter": "python",
   "pygments_lexer": "ipython3",
   "version": "3.8.3"
  }
 },
 "nbformat": 4,
 "nbformat_minor": 4
}
